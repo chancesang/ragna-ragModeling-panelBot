{
 "cells": [
  {
   "cell_type": "markdown",
   "id": "15bbda72-2f2a-43d3-a3ed-b7f8c2f244a9",
   "metadata": {},
   "source": [
    "<img src=\"images/ragna-logo.png\" width=\"200px\" align=\"right\"/>\n",
    "\n",
    "# Basics of RAG-powered chat app\n",
    "\n",
    "<hr>"
   ]
  },
  {
   "cell_type": "markdown",
   "id": "feba6e1b-e8ad-47c9-a9e4-48648fd476f1",
   "metadata": {},
   "source": [
    "## What is Retrieval-augmented generation (RAG)?\n",
    "\n",
    "LLMs are trained on vast, but static datasets. This means, while they can predict answers for several general questions like:\n",
    "\n",
    "<img src=\"images/chatgpt-what-is-scipy.png\" width=60% style=\"border:1px solid black;\"/>\n",
    "\n",
    "They can't answer or hallucinate answers for recent events or specific topics:\n",
    "\n",
    "<img src=\"images/chatgpt-when-is-scipy.png\" width=50% style=\"border:1px solid black;\"/>\n",
    "\n",
    "**Retrieval-augmented generation (RAG)** is a method to augment foundational LLMs with **contextual data (documents)**, to reduce hallucinations and get around the limited space available in an LLM prompts (around 3,000 words for ChatGPT 3.5).\n",
    "\n",
    "As a basic example, we can provide some relevant information from the SciPy website:\n",
    "\n",
    "<img src=\"images/chatgpt-with-context.png\" width=50% style=\"border:1px solid black;\"/>\n",
    "\n",
    "<img src=\"images/RAG-new.png\" width=70%/>"
   ]
  },
  {
   "cell_type": "markdown",
   "id": "ae71cfe5-6de7-4ed6-9ede-ac4ff606f21d",
   "metadata": {},
   "source": [
    "### Tokenization\n",
    "\n",
    "Breaking down document text into component units like words, sub-words, characters, etc.\n",
    "\n",
    "<img src=\"images/openai-tokenization.png\" width=60% style=\"border:1px solid black;\"/>\n",
    "\n",
    "\n",
    "### Embedding\n",
    "\n",
    "Storing the tokens logically, usually as vectors, where related tokens are closer to each other.\n",
    "\n",
    "<img src=\"images/embedding-projector.png\" width=80% style=\"border:1px solid black;\"/>\n"
   ]
  },
  {
   "cell_type": "markdown",
   "id": "f4a1f1a5-cdef-4349-a69d-44cf0d81c487",
   "metadata": {},
   "source": [
    "## What is Ragna?\n",
    "\n",
    "Open source library for RAG **Orchestration** with a Python API, REST API, and web UI.\n",
    "\n",
    "It gives you a convenience tools to quickly build RAG workflows and applications, with any LLM or source storage you prefer.\n",
    "\n",
    "<img src=\"images/ragna-architecture.png\" width=80%/>"
   ]
  },
  {
   "cell_type": "markdown",
   "id": "94d45748-b244-4104-bc9a-3b744b4d10c9",
   "metadata": {},
   "source": [
    "## Build a chat function with Ragna"
   ]
  },
  {
   "cell_type": "markdown",
   "id": "b649a183-e6d9-4f92-96b1-c89d962fb3ca",
   "metadata": {},
   "source": [
    "### Step 0: Setup requirements"
   ]
  },
  {
   "cell_type": "markdown",
   "id": "e7ca1a36-78dd-454c-a92b-317c4b53792d",
   "metadata": {},
   "source": [
    "To use builtin LLMs like OpenAI, you will need API keys. For this tutorial, we have included a key for you."
   ]
  },
  {
   "cell_type": "code",
   "execution_count": 1,
   "id": "050b4d2b-a758-46a6-92d1-6b099af640ea",
   "metadata": {},
   "outputs": [],
   "source": [
    "from pathlib import Path\n",
    "\n",
    "from dotenv import load_dotenv\n",
    "\n",
    "dotenv_path = Path.home() / Path(\"shared/scipy/rags-to-riches/.env\")\n",
    "assert load_dotenv(dotenv_path)"
   ]
  },
  {
   "cell_type": "markdown",
   "id": "8cec7c65-7741-46ed-8454-115f97424784",
   "metadata": {
    "jp-MarkdownHeadingCollapsed": true
   },
   "source": [
    "#### Side note: Local setup instructions 💻\n",
    "\n",
    "On local computers, follow these step to get started with Ragna:\n",
    "\n",
    "1. Install Ragna: `pip install 'ragna[all]'`\n",
    "2. Run `ragna init` to create the `ragna.toml` config file with a guided CLI. \n",
    "3. [Get an OpenAI API key](https://platform.openai.com/api-keys) and set the relevant environment variable `export OPENAI_API_KEY=\"XXX\"`"
   ]
  },
  {
   "cell_type": "markdown",
   "id": "b96f3695-9e43-4b1a-8d33-649f3c4449ec",
   "metadata": {},
   "source": [
    "### Step 1: Select relevant documents"
   ]
  },
  {
   "cell_type": "markdown",
   "id": "14b187fe-31f6-449a-bfec-bc3398dd43af",
   "metadata": {
    "editable": true,
    "slideshow": {
     "slide_type": ""
    },
    "tags": []
   },
   "source": [
    "Let's use 10k report filings for Ford, General Motors, and Tesla.\n",
    "\n",
    "💡 **Tip:** There are more documents in the `/files` directory that you can explore."
   ]
  },
  {
   "cell_type": "code",
   "execution_count": 2,
   "id": "b9865ffb-8436-4856-a46a-6f4448ed7d37",
   "metadata": {
    "editable": true,
    "slideshow": {
     "slide_type": ""
    },
    "tags": []
   },
   "outputs": [],
   "source": [
    "documents = [\n",
    "    \"files/10k-report-ford.pdf\",\n",
    "    \"files/10k-report-gm.pdf\",\n",
    "    \"files/10k-report-tesla.pdf\",\n",
    "]"
   ]
  },
  {
   "cell_type": "markdown",
   "id": "7e778ed8-3b35-48e0-9a01-ac17937b05fa",
   "metadata": {},
   "source": [
    "### Step 2: Select assistants and source storage\n",
    "\n",
    "🔗 [Check the available assistants in the docs](https://ragna.chat/en/stable/generated/tutorials/gallery_python_api/#step-3-select-an-assistant)"
   ]
  },
  {
   "cell_type": "markdown",
   "id": "edc39c85-65a1-4a58-97d7-ed6d5dcf7b1d",
   "metadata": {},
   "source": [
    "We are selecting OpenAI's GPT-3.5 and GPT-4 LLMs, and Chroma and LanceDB source storages."
   ]
  },
  {
   "cell_type": "code",
   "execution_count": 3,
   "id": "cc4d44b6-8d52-4e5e-a5e1-da566cea4407",
   "metadata": {
    "editable": true,
    "slideshow": {
     "slide_type": ""
    },
    "tags": []
   },
   "outputs": [],
   "source": [
    "from ragna import Rag\n",
    "from ragna.assistants import Gpt4, Gpt35Turbo16k\n",
    "from ragna.source_storages import Chroma, LanceDB"
   ]
  },
  {
   "cell_type": "code",
   "execution_count": 4,
   "id": "de4c14ab-d1e6-4c0a-a060-7dbefe10de15",
   "metadata": {},
   "outputs": [],
   "source": [
    "rag = Rag()"
   ]
  },
  {
   "cell_type": "markdown",
   "id": "85a4c3dc-2474-430c-be12-ec13b41458e0",
   "metadata": {},
   "source": [
    "### Step 3: Start chat"
   ]
  },
  {
   "cell_type": "markdown",
   "id": "168f993c-3f5b-4973-bbec-27e17293d9c3",
   "metadata": {},
   "source": [
    "Ragna is async by design.\n",
    "\n",
    "This setup involves building the vector embedding, and therefore will take longer for large document sets."
   ]
  },
  {
   "cell_type": "code",
   "execution_count": 5,
   "id": "6eb51db8-c455-416e-acd5-0d6888fde5ad",
   "metadata": {
    "editable": true,
    "slideshow": {
     "slide_type": ""
    },
    "tags": []
   },
   "outputs": [
    {
     "name": "stderr",
     "output_type": "stream",
     "text": [
      "/home/chance.sanger@dell.com/.cache/chroma/onnx_models/all-MiniLM-L6-v2/onnx.tar.gz: 100%|██████████| 79.3M/79.3M [00:00<00:00, 92.6MiB/s]\n"
     ]
    },
    {
     "data": {
      "text/plain": [
       "Message(content=How can I help you with the documents?, role=MessageRole.SYSTEM, sources=[])"
      ]
     },
     "execution_count": 5,
     "metadata": {},
     "output_type": "execute_result"
    }
   ],
   "source": [
    "chat = rag.chat(\n",
    "    documents=documents,\n",
    "    source_storage=Chroma,\n",
    "    assistant=Gpt4,\n",
    ")\n",
    "\n",
    "await chat.prepare()"
   ]
  },
  {
   "cell_type": "markdown",
   "id": "bea0f42c-d1fc-4e0f-899f-83a1e156557d",
   "metadata": {},
   "source": [
    "### Step 4: Ask questions"
   ]
  },
  {
   "cell_type": "code",
   "execution_count": 6,
   "id": "d4cc2cf6-b464-46f4-91f5-c123be434035",
   "metadata": {},
   "outputs": [
    {
     "name": "stdout",
     "output_type": "stream",
     "text": [
      "\n",
      "LLM Response: \n",
      "\n",
      "The text provided does not include information on the financial performance of General Motors and Tesla in 2023. However, it does provide some details on Ford's financial performance in 2023. Specifically, it mentions that the Ford Next segment had an EBIT loss of $138 million in 2023, which was a $788 million improvement from the previous year. The Ford Credit segment had total net receivables of $133 billion, an increase of $11 billion from 2022. However, its EBT decreased by $1,326 million to $1,331 million in 2023.\n",
      "\n"
     ]
    }
   ],
   "source": [
    "answer = await chat.answer(\"How did Ford, General Motors, and Tesla's perform financially 2023?\")\n",
    "print(f\"\\nLLM Response: \\n\\n{answer.content}\\n\")"
   ]
  },
  {
   "cell_type": "markdown",
   "id": "1c1f4dab-4a4c-49af-92af-ab3fbd675169",
   "metadata": {
    "editable": true,
    "slideshow": {
     "slide_type": "slide"
    },
    "tags": []
   },
   "source": [
    "Let's check the sources used:"
   ]
  },
  {
   "cell_type": "code",
   "execution_count": 7,
   "id": "d88afda0-e505-4994-b300-2f5470fbccf4",
   "metadata": {},
   "outputs": [
    {
     "data": {
      "text/plain": [
       "[Source(id='f4cac961-c1f5-4b87-a43f-0830bc49f9a6', document=<ragna.core.LocalDocument object at 0x7ade7818fa10>, location='52, 53', content=' Discussion and Analysis of Financial Condition and Results of Operations (Continued)\\nFord Next Segment\\nThe Ford Next segment (formerly Mobility) primarily includes expenses and investments for emerging business initiatives aimed at creating\\nvalue for Ford in vehicle-adjacent market segments.\\xa0\\nIn this segment, our 2023 EBIT loss was $138 million, a $788 million improvement from a year ago. Ford Next has evolved from primarily\\ninvesting in the development of autonomous vehicle capabilities to focus exclusively on incubating and launching new businesses creating\\nstrategic value for Ford.\\n48\\nItem 7. Management’s Discussion and Analysis of Financial Condition and Results of Operations (Continued)\\nFord Credit Segment\\nThe tables below provide full year 2023 key metrics and the change in full year 2023 EBT compared with full year 2022 by causal factor for\\nthe Ford Credit segment. For a description of these causal factors, see Definitions and Information Regarding Ford Credit Causal Factors.\\n2022\\n2023\\nH / (L)\\nGAAP Financial Measures\\nTotal Net Receivables ($B)\\n$\\n122\\xa0\\n$\\n133\\xa0\\n$\\n11\\xa0\\nLoss-to-Receivables (bps) (a)\\n14\\xa0\\n35\\xa0\\n21\\xa0\\nAuction Values (b)\\n$\\n32,410\\xa0\\n$\\n30,005\\xa0\\n(7)%\\nEBT ($M)\\n2,657\\xa0\\n1,331\\xa0\\n$\\n(1,326)\\nROE (%)\\n16\\xa0%\\n11\\xa0%\\n(5) ppts\\nOther Balance Sheet Metrics\\nDebt ($B)\\n$\\n119\\xa0\\n$\\n129\\xa0\\n9\\xa0%\\nNet Liquidity ($B)\\n21\\xa0\\n26\\xa0\\n22\\xa0%\\nFinancial Statement Leverage (to 1)\\n10\\xa0\\n9.7\\xa0\\n(0.3)\\n__________\\n(a)\\nU.S. retail financing only.\\n(b)\\nU.S. 36-month off-lease auction values at full year 2023 mix.\\nChange in EBT by Causal Factor (in millions)\\n2022 Full Year EBT\\n$\\n2,657\\xa0\\nVolume / Mix\\n153\\xa0\\nFinancing Margin\\n(493)\\nCredit Loss\\n(239)\\nLease Residual\\n(466)\\nExchange\\n18\\xa0\\nOther\\n(299)\\n2023 Full Year EBT\\n$\\n1,331\\xa0\\nTotal net receivables at December\\xa031, 2023 were 9% higher than a year ago, primarily reflecting higher consumer and non-consumer\\nfinancing and currency exchange rates, partially offset by fewer', num_tokens=500),\n",
       " Source(id='8231977e-b190-4b4d-957b-542d75c41f6c', document=<ragna.core.LocalDocument object at 0x7ade7818f9d0>, location='41', content=\" MOTORS COMPANY AND SUBSIDIARIES\\nYears Ended December 31,\\n2023 vs. 2022\\nChange\\n2023\\n2022\\n2021\\nInvesting Activities\\nCapital expenditures\\n$\\n(10.7)\\n$\\n(9.0)\\n$\\n(7.4)\\n$\\n(1.7)\\nAcquisitions and liquidations of marketable securities, net\\n3.5\\xa0\\n(3.9)\\n1.0\\xa0\\n7.4\\xa0\\nOther(a)\\n(1.5)\\n(4.5)\\n(1.8)\\n3.0\\xa0\\nNet automotive cash provided by (used in) investing activities(b)\\n$\\n(8.7)\\n$\\n(17.5)\\n$\\n(8.2)\\n$\\n8.8\\xa0\\n__________\\n(a)\\nIncludes $0.7 billion, $0.8 billion and $0.5 billion of GM's investment in Ultium Cells Holdings LLC in the years ended December 31, 2023, 2022 and 2021, $0.5\\nbillion, $2.4 billion and $1.0 billion of GM's investment in Cruise in the years ended December 31, 2023, 2022 and 2021, $0.3 billion of GM's investment in Lithium\\nAmericas in the year ended December 31, 2023, $2.1 billion for the purchase of Cruise preferred shares from SoftBank Vision Fund (AIV M2) L.P. (SoftBank) in the\\nyear ended December 31, 2022 and $0.9 billion related to the sale of Stellantis common shares, excluding dividends received and tax withholding, in the year ended\\nDecember 31, 2022.\\n(b)\\nThe investments in Cruise are eliminated within the consolidated statements of cash flows. The redemption of Cruise preferred shares from SoftBank in 2022 are\\nreclassified to financing activities within the consolidated statements of cash flows.\\n\\nYears Ended December 31,\\n2023 vs. 2022\\nChange\\n2023\\n2022\\n2021\\nFinancing Activities\\n\\nNet proceeds (payments) from short-term debt\\n$\\n(1.5)\\n$\\n(1.4)\\n$\\n(0.5)\\n$\\n(0.1)\\nIssuance of senior notes\\n—\\xa0\\n2.3\\xa0\\n—\\xa0\\n(2.3)\\nOther(a)\\n(12.1)\\n(3.3)\\n(0.4\", num_tokens=500)]"
      ]
     },
     "execution_count": 7,
     "metadata": {},
     "output_type": "execute_result"
    }
   ],
   "source": [
    "answer.sources"
   ]
  },
  {
   "cell_type": "code",
   "execution_count": 8,
   "id": "e68c8887-b10d-4b21-bea1-fa950534387d",
   "metadata": {
    "editable": true,
    "slideshow": {
     "slide_type": ""
    },
    "tags": []
   },
   "outputs": [
    {
     "name": "stdout",
     "output_type": "stream",
     "text": [
      "1.: 10k-report-ford.pdf, page(s) 52, 53\n",
      "\n",
      " Discussion and Analysis of Financial Condition and Results of Operations (Continued)\n",
      "Ford Next Segment\n",
      "The Ford Next segment (formerly Mobility) primarily includes expenses and investments for emerging business initiatives aimed at creating\n",
      "value for Ford in vehicle-adjacent market segments. \n",
      "In this segment, our 2023 EBIT loss was $138 million, a $788 million improvement from a year ago. Ford Next has evolved from primarily\n",
      "investing in the development of autonomous vehicle capabilities to focus exclusively on incubating and launching new businesses creating\n",
      "strategic value for Ford.\n",
      "48\n",
      "Item 7. Management’s Discussion and Analysis of Financial Condition and Results of Operations (Continued)\n",
      "Ford Credit Segment\n",
      "The tables below provide full year 2023 key metrics and the change in full year 2023 EBT compared with full year 2022 by causal factor for\n",
      "the Ford Credit segment. For a description of these causal factors, see Definitions and Information Regarding Ford Credit Causal Factors.\n",
      "2022\n",
      "2023\n",
      "H / (L)\n",
      "GAAP Financial Measures\n",
      "Total Net Receivables ($B)\n",
      "$\n",
      "122 \n",
      "$\n",
      "133 \n",
      "$\n",
      "11 \n",
      "Loss-to-Receivables (bps) (a)\n",
      "14 \n",
      "35 \n",
      "21 \n",
      "Auction Values (b)\n",
      "$\n",
      "32,410 \n",
      "$\n",
      "30,005 \n",
      "(7)%\n",
      "EBT ($M)\n",
      "2,657 \n",
      "1,331 \n",
      "$\n",
      "(1,326)\n",
      "ROE (%)\n",
      "16 %\n",
      "11 %\n",
      "(5) ppts\n",
      "Other Balance Sheet Metrics\n",
      "Debt ($B)\n",
      "$\n",
      "119 \n",
      "$\n",
      "129 \n",
      "9 %\n",
      "Net Liquidity ($B)\n",
      "21 \n",
      "26 \n",
      "22 %\n",
      "Financial Statement Leverage (to 1)\n",
      "10 \n",
      "9.7 \n",
      "(0.3)\n",
      "__________\n",
      "(a)\n",
      "U.S. retail financing only.\n",
      "(b)\n",
      "U.S. 36-month off-lease auction values at full year 2023 mix.\n",
      "Change in EBT by Causal Factor (in millions)\n",
      "2022 Full Year EBT\n",
      "$\n",
      "2,657 \n",
      "Volume / Mix\n",
      "153 \n",
      "Financing Margin\n",
      "(493)\n",
      "Credit Loss\n",
      "(239)\n",
      "Lease Residual\n",
      "(466)\n",
      "Exchange\n",
      "18 \n",
      "Other\n",
      "(299)\n",
      "2023 Full Year EBT\n",
      "$\n",
      "1,331 \n",
      "Total net receivables at December 31, 2023 were 9% higher than a year ago, primarily reflecting higher consumer and non-consumer\n",
      "financing and currency exchange rates, partially offset by fewer\n",
      "################################################################################\n",
      "\n",
      "2.: 10k-report-gm.pdf, page(s) 41\n",
      "\n",
      " MOTORS COMPANY AND SUBSIDIARIES\n",
      "Years Ended December 31,\n",
      "2023 vs. 2022\n",
      "Change\n",
      "2023\n",
      "2022\n",
      "2021\n",
      "Investing Activities\n",
      "Capital expenditures\n",
      "$\n",
      "(10.7)\n",
      "$\n",
      "(9.0)\n",
      "$\n",
      "(7.4)\n",
      "$\n",
      "(1.7)\n",
      "Acquisitions and liquidations of marketable securities, net\n",
      "3.5 \n",
      "(3.9)\n",
      "1.0 \n",
      "7.4 \n",
      "Other(a)\n",
      "(1.5)\n",
      "(4.5)\n",
      "(1.8)\n",
      "3.0 \n",
      "Net automotive cash provided by (used in) investing activities(b)\n",
      "$\n",
      "(8.7)\n",
      "$\n",
      "(17.5)\n",
      "$\n",
      "(8.2)\n",
      "$\n",
      "8.8 \n",
      "__________\n",
      "(a)\n",
      "Includes $0.7 billion, $0.8 billion and $0.5 billion of GM's investment in Ultium Cells Holdings LLC in the years ended December 31, 2023, 2022 and 2021, $0.5\n",
      "billion, $2.4 billion and $1.0 billion of GM's investment in Cruise in the years ended December 31, 2023, 2022 and 2021, $0.3 billion of GM's investment in Lithium\n",
      "Americas in the year ended December 31, 2023, $2.1 billion for the purchase of Cruise preferred shares from SoftBank Vision Fund (AIV M2) L.P. (SoftBank) in the\n",
      "year ended December 31, 2022 and $0.9 billion related to the sale of Stellantis common shares, excluding dividends received and tax withholding, in the year ended\n",
      "December 31, 2022.\n",
      "(b)\n",
      "The investments in Cruise are eliminated within the consolidated statements of cash flows. The redemption of Cruise preferred shares from SoftBank in 2022 are\n",
      "reclassified to financing activities within the consolidated statements of cash flows.\n",
      "\n",
      "Years Ended December 31,\n",
      "2023 vs. 2022\n",
      "Change\n",
      "2023\n",
      "2022\n",
      "2021\n",
      "Financing Activities\n",
      "\n",
      "Net proceeds (payments) from short-term debt\n",
      "$\n",
      "(1.5)\n",
      "$\n",
      "(1.4)\n",
      "$\n",
      "(0.5)\n",
      "$\n",
      "(0.1)\n",
      "Issuance of senior notes\n",
      "— \n",
      "2.3 \n",
      "— \n",
      "(2.3)\n",
      "Other(a)\n",
      "(12.1)\n",
      "(3.3)\n",
      "(0.4\n",
      "################################################################################\n",
      "\n"
     ]
    }
   ],
   "source": [
    "for idx, source in enumerate(answer.sources, 1):\n",
    "    print(f\"{idx}.: {source.document.name}, page(s) {source.location}\\n\")\n",
    "    print(source.content)\n",
    "    print(\"#\" * 80 + \"\\n\")"
   ]
  },
  {
   "cell_type": "markdown",
   "id": "3397e92f-d28b-4e6f-a21c-872bc2939221",
   "metadata": {},
   "source": [
    "#### Streaming answers\n",
    "\n",
    "Ragna allows you to stream the answers, one chunk at a time, just set `stream=True`:"
   ]
  },
  {
   "cell_type": "code",
   "execution_count": 21,
   "id": "465bd78f-b700-43ec-923c-13329e725f05",
   "metadata": {
    "editable": true,
    "slideshow": {
     "slide_type": ""
    },
    "tags": []
   },
   "outputs": [
    {
     "name": "stdout",
     "output_type": "stream",
     "text": [
      "\n",
      "LLM Response: \n",
      "\n",
      "\n",
      "The primary risk factors for Ford are grouped into Operational Risks, Macroeconomic, Market, and Strategic Risks, Financial Risks, and Legal and Regulatory Risks. Some of these include:\n",
      "\n",
      "Operational Risks:\n",
      "- Ford is highly dependent on its suppliers to deliver components in accordance with Ford’s production schedule and specifications. A shortage of or inability to acquire key components or raw materials can disrupt Ford’s production of vehicles.\n",
      "- Ford has entered into multi-year commitments to raw material and other suppliers that subject Ford to risks associated with lower future demand for such items as well as costs that fluctuate and are difficult to accurately forecast.\n",
      "\n",
      "Macroeconomic, Market, and Strategic Risks:\n",
      "- Ford’s results are dependent on sales of larger, more profitable vehicles, particularly in the United States.\n",
      "- With a global footprint and supply chain, Ford’s results and operations could be adversely affected by economic or geopolitical developments, including protectionist trade policies such as tariffs, or other events.\n",
      "- Industry sales volume can be volatile and could decline if there is a financial crisis, recession, public health emergency, or significant geopolitical event.\n",
      "\n",
      "Financial Risks:\n",
      "- Ford and Ford Credit’s access to debt, securitization, or derivative markets around the world at competitive rates or in sufficient amounts"
     ]
    }
   ],
   "source": [
    "answer = await chat.answer(\"What are the primary risk factors for Ford?\", stream=True)\n",
    "# answer = await chat.answer(\"What are the main drivers for oil and gas companies in 2024?\", stream=True)\n",
    "\n",
    "print(f\"\\nLLM Response: \\n\\n\")\n",
    "      \n",
    "async for chunk in answer:\n",
    "    print(chunk, end= \"\")"
   ]
  },
  {
   "cell_type": "markdown",
   "id": "61b31dcb-6aa5-45df-b326-4b8dd7f0993f",
   "metadata": {},
   "source": [
    "#### Reducing hallucinations (errors)\n",
    "\n",
    "Ragna tries to ensure only the sources are used for answering questions.\n",
    "\n",
    "🔗 [For reference, see Ragna source code on GitHub highlighting the prompt.](https://github.com/Quansight/ragna/blob/3cef0f7da1f2ed90e5d0618bcad82f824d00dc5a/ragna/assistants/_openai.py#L25-L26)"
   ]
  },
  {
   "cell_type": "code",
   "execution_count": 18,
   "id": "35313b3f-913d-4393-b310-b1b866d4921e",
   "metadata": {},
   "outputs": [
    {
     "name": "stdout",
     "output_type": "stream",
     "text": [
      "\n",
      "LLM Response: \n",
      "\n",
      "The document provided does not contain information about Tesla's earnings for the year 2024.\n"
     ]
    }
   ],
   "source": [
    "answer = await chat.answer(\"How much did Tesla earn in 2024?\")\n",
    "print(f\"\\nLLM Response: \\n\\n{answer.content}\")"
   ]
  },
  {
   "cell_type": "markdown",
   "id": "4cc06093-81ea-4a5f-a197-db25336698a5",
   "metadata": {},
   "source": [
    "### Advanced configuration\n",
    "\n",
    "`Rag().chat()` takes the following keyword arguments to help you optimize the quality of answers:\n",
    "\n",
    "* `chunk_size` - Size of each chunk (sections of the document that contain context) to use. Default is 500.\n",
    "* `chunk_overlap` - Size of the overlap with previous and next chunk for retrieving additional context for future prompts. Default is 250.\n",
    "* `num_tokens` - Maximum number of context tokens, and in turn the number of document chunks, pulled out of the vector database. Default is 1024.\n",
    "\n",
    "You can also set these configurations in the web app (which we will see later)."
   ]
  },
  {
   "cell_type": "markdown",
   "id": "d7205c89-ee6e-4b51-a18d-0bb454cd7c39",
   "metadata": {},
   "source": [
    "### Your turn ✨ \n",
    "\n",
    "1. Create a new chat with larger `chunk_size` and `num_tokens`\n",
    "2. Ask about the overall carbon emissions for each company"
   ]
  },
  {
   "cell_type": "code",
   "execution_count": 13,
   "id": "03afd5a9-f217-4cd7-86ec-6e71afdb229e",
   "metadata": {},
   "outputs": [
    {
     "data": {
      "text/plain": [
       "Message(content=How can I help you with the documents?, role=MessageRole.SYSTEM, sources=[])"
      ]
     },
     "execution_count": 13,
     "metadata": {},
     "output_type": "execute_result"
    }
   ],
   "source": [
    "# Picking chunk size: If you make chunk size very small (250) you may match with the beginning of a paragraph where the answer resides, \n",
    "# but where the answer actually resides is later in that paragraph.\n",
    "\n",
    "chat = rag.chat(\n",
    "    documents=documents,\n",
    "    source_storage=Chroma,\n",
    "    assistant=Gpt4,\n",
    "    chunk_size=1000,\n",
    "    num_tokens=2048,\n",
    ")\n",
    "\n",
    "await chat.prepare()"
   ]
  },
  {
   "cell_type": "code",
   "execution_count": 19,
   "id": "bbf1e107-72db-40bd-87af-a9ae6ceb566d",
   "metadata": {},
   "outputs": [
    {
     "name": "stdout",
     "output_type": "stream",
     "text": [
      "\n",
      "LLM Response: \n",
      "\n",
      "The primary risk factors for Ford are grouped into Operational Risks, Macroeconomic, Market, and Strategic Risks, Financial Risks, and Legal and Regulatory Risks. Some of these include:\n",
      "\n",
      "Operational Risks:\n",
      "- Ford is highly dependent on its suppliers to deliver components in accordance with Ford’s production schedule and specifications. A shortage of or inability to acquire key components or raw materials can disrupt Ford’s production of vehicles.\n",
      "- Ford has entered into multi-year commitments to raw material and other suppliers that subject Ford to risks associated with lower future demand for such items as well as costs that fluctuate and are difficult to accurately forecast.\n",
      "\n",
      "Macroeconomic, Market, and Strategic Risks:\n",
      "- Ford’s results are dependent on sales of larger, more profitable vehicles, particularly in the United States.\n",
      "- With a global footprint and supply chain, Ford’s results and operations could be adversely affected by economic or geopolitical developments, including protectionist trade policies such as tariffs, or other events.\n",
      "- Industry sales volume can be volatile and could decline if there is a financial crisis, recession, public health emergency, or significant geopolitical event.\n",
      "\n",
      "Financial Risks:\n",
      "- Ford and Ford Credit’s access to debt, securitization, or derivative markets around the world at competitive rates or in sufficient amounts\n"
     ]
    }
   ],
   "source": [
    "answer = await chat.answer(\"What are the primary risk factors for Ford?\")\n",
    "print(f\"\\nLLM Response: \\n\\n{answer.content}\")"
   ]
  },
  {
   "cell_type": "markdown",
   "id": "0fedd4e7-95a5-4cc3-a97f-a9ed7ea562b6",
   "metadata": {},
   "source": [
    "<hr>\n",
    "\n",
    "_❗️ **Warning:** Make sure to stop the Jupyter Kernel (in the JupyterLab Menu Bar, click on \"Kernel\" -> \"Shut down Kernel\") before proceeding to prevent the \"insufficient VRAM\" error._\n",
    "\n",
    "<br>\n",
    "\n",
    "**✨ Next: [Use Local LLM with Ragna](03-RAG-local-llm.ipynb) →**\n",
    "\n",
    "<br>\n",
    "\n",
    "💬 _Wish to continue discussions after the tutorial? Contact the presenters: [@pavithraes](https://github.com/pavithraes), [@dharhas](https://github.com/dharhas), [@ahuang11](https://github.com/ahuang11)_\n",
    "\n",
    "<hr>"
   ]
  }
 ],
 "metadata": {
  "kernelspec": {
   "display_name": "scipy-scipy-rags-to-riches",
   "language": "python",
   "name": "conda-env-scipy-scipy-rags-to-riches-py"
  },
  "language_info": {
   "codemirror_mode": {
    "name": "ipython",
    "version": 3
   },
   "file_extension": ".py",
   "mimetype": "text/x-python",
   "name": "python",
   "nbconvert_exporter": "python",
   "pygments_lexer": "ipython3",
   "version": "3.11.9"
  }
 },
 "nbformat": 4,
 "nbformat_minor": 5
}
